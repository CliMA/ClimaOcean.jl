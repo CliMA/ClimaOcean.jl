{
 "cells": [
  {
   "cell_type": "code",
   "execution_count": null,
   "id": "e3a6067a-a251-4cf3-a238-33273d8cbc7a",
   "metadata": {},
   "outputs": [],
   "source": [
    "cd(\"/g/data/e14/txs156/.julia/environments/v1.10/\") #i.e. where the Project.toml and Manifest.toml are located for a given environment\n",
    "using Pkg\n",
    "Pkg.activate(@__DIR__)"
   ]
  },
  {
   "cell_type": "code",
   "execution_count": null,
   "id": "2cf1e8e6-6d2f-4007-91c3-011338a4bd01",
   "metadata": {},
   "outputs": [
    {
     "name": "stderr",
     "output_type": "stream",
     "text": [
      "\u001b[32m\u001b[1m  Activating\u001b[22m\u001b[39m project at `/g/data/e14/txs156/.julia/environments/v1.10`\n"
     ]
    },
    {
     "ename": "LoadError",
     "evalue": "ArgumentError: Package CarioMakie not found in current path.\n- Run `import Pkg; Pkg.add(\"CarioMakie\")` to install the CarioMakie package.",
     "output_type": "error",
     "traceback": [
      "ArgumentError: Package CarioMakie not found in current path.\n- Run `import Pkg; Pkg.add(\"CarioMakie\")` to install the CarioMakie package.",
      "",
      "Stacktrace:",
      " [1] macro expansion",
      "   @ ./loading.jl:1842 [inlined]",
      " [2] macro expansion",
      "   @ ./lock.jl:267 [inlined]",
      " [3] __require(into::Module, mod::Symbol)",
      "   @ Base ./loading.jl:1823",
      " [4] #invoke_in_world#3",
      "   @ ./essentials.jl:926 [inlined]",
      " [5] invoke_in_world",
      "   @ ./essentials.jl:923 [inlined]",
      " [6] require(into::Module, mod::Symbol)",
      "   @ Base ./loading.jl:1816"
     ]
    }
   ],
   "source": [
    "using CairoMakie\n",
    "using JLD2"
   ]
  },
  {
   "cell_type": "code",
   "execution_count": null,
   "id": "221822a5-5d46-44d3-bb43-740f68b34f1a",
   "metadata": {},
   "outputs": [],
   "source": []
  }
 ],
 "metadata": {
  "kernelspec": {
   "display_name": "Julia 1.10.8",
   "language": "julia",
   "name": "julia-1.10"
  },
  "language_info": {
   "file_extension": ".jl",
   "mimetype": "application/julia",
   "name": "julia",
   "version": "1.10.8"
  }
 },
 "nbformat": 4,
 "nbformat_minor": 5
}
